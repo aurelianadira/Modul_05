{
 "cells": [
  {
   "attachments": {},
   "cell_type": "markdown",
   "metadata": {},
   "source": [
    "1. Buatlah program untuk menampilkan total penjumlahan bilangan ganjil dan total penjumlahan bilangan genap dengan input dari user berupa range (batas atas dan batas bawah)!"
   ]
  },
  {
   "cell_type": "code",
   "execution_count": 1,
   "metadata": {},
   "outputs": [
    {
     "name": "stdout",
     "output_type": "stream",
     "text": [
      "Penjumlahan ganjil dengan range (19,77) adalah 1440\n",
      "Penjumlahan genap dengan range (19,77) adalah 1392\n"
     ]
    }
   ],
   "source": [
    "# Kerjakan nomor 1 di sini\n",
    "\n",
    "batas_atas = int(input(\"masukkan angka batas atas : \"))\n",
    "batas_bawah = int(input(\"masukkan angka batas bawah : \"))\n",
    "Penjumlahan_ganjil = 0\n",
    "Penjumlahan_genap = 0\n",
    "if batas_atas > batas_bawah :\n",
    "    batas_atas,batas_bawah = batas_bawah,batas_atas\n",
    "for angka in range(batas_atas,batas_bawah+1) :\n",
    "    if angka % 2 == 1 :\n",
    "        Penjumlahan_ganjil += angka\n",
    "    else :\n",
    "        Penjumlahan_genap += angka\n",
    "print(f'Penjumlahan ganjil dengan range ({batas_atas},{batas_bawah}) adalah {Penjumlahan_ganjil}')\n",
    "print(f'Penjumlahan genap dengan range ({batas_atas},{batas_bawah}) adalah {Penjumlahan_genap}')\n",
    "        \n"
   ]
  },
  {
   "attachments": {},
   "cell_type": "markdown",
   "metadata": {},
   "source": [
    "2. Buatlah sebuah list yang berisi daftar makanan khas daerah (minimal 10 makanan termasuk makanan khas Solo). Kemudian buat program pencarian menggunakan pengulangan. Apabila nama makanan yang user inputkan sudah sesuai dengan isi list maka program akan berhenti dan menampilkan output \"(makanan yang diinput user) adalah makanan khas daerah\"."
   ]
  },
  {
   "cell_type": "code",
   "execution_count": 4,
   "metadata": {},
   "outputs": [
    {
     "name": "stdout",
     "output_type": "stream",
     "text": [
      "cookies tidak merupakan makanan khas daerah\n"
     ]
    }
   ],
   "source": [
    "# Kerjakan nomor 2 di sini\n",
    "makanan_khas_daerah = ['soto solo', 'nasi liwet solo', 'gudeg jogja', 'pecel ayam', 'pempek palembang', 'mie aceh', 'nasi padang', \n",
    "                      'selat solo', 'konro bakar', 'rendang', 'lumpia semarang', 'garang asem', 'otak-otak', 'gulai ikan patin']\n",
    "while True:\n",
    "   nama_makanan = input(\"masukkan nama makanan yang anda ketahui : \")\n",
    "   if nama_makanan.lower () in makanan_khas_daerah:\n",
    "      print(f\"{nama_makanan} adalah merupakan makanan khas daerah\")\n",
    "   else:\n",
    "      print(f\"{nama_makanan} tidak merupakan makanan khas daerah\")\n",
    "   break \n",
    "\n"
   ]
  },
  {
   "attachments": {},
   "cell_type": "markdown",
   "metadata": {},
   "source": [
    "3. Buatlah program untuk menghitung rata-rata 7 bilangan dimana bilangan-bilangan tersebut didapat melalui input user!"
   ]
  },
  {
   "cell_type": "code",
   "execution_count": 5,
   "metadata": {},
   "outputs": [
    {
     "name": "stdout",
     "output_type": "stream",
     "text": [
      "[19.0, 77.0, 15.0, 4.0, 66.0, 77.0, 55.0]\n",
      "rata - rata dari ketujuh bilangan antara lain :  44.714285714285715\n"
     ]
    }
   ],
   "source": [
    "# Kerjakan nomor 3 di sini\n",
    "daftar_bilangan = []\n",
    "for i in range (7):\n",
    "    nilai_bilangan = float(input(\"masukkan nilai bilangan : \"))\n",
    "    daftar_bilangan.append(nilai_bilangan)\n",
    "    ratarata = sum(daftar_bilangan)/len(daftar_bilangan)\n",
    "print(daftar_bilangan)\n",
    "print(\"rata - rata bilangan dari ketujuh bilangan antara lain : \", ratarata)"
   ]
  }
 ],
 "metadata": {
  "kernelspec": {
   "display_name": "Python 3",
   "language": "python",
   "name": "python3"
  },
  "language_info": {
   "codemirror_mode": {
    "name": "ipython",
    "version": 3
   },
   "file_extension": ".py",
   "mimetype": "text/x-python",
   "name": "python",
   "nbconvert_exporter": "python",
   "pygments_lexer": "ipython3",
   "version": "3.10.7"
  },
  "orig_nbformat": 4
 },
 "nbformat": 4,
 "nbformat_minor": 2
}
